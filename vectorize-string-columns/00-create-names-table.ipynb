{
 "cells": [
  {
   "cell_type": "code",
   "execution_count": 0,
   "metadata": {
    "application/vnd.databricks.v1+cell": {
     "cellMetadata": {
      "byteLimit": 2048000,
      "rowLimit": 10000
     },
     "inputWidgets": {},
     "nuid": "f2a6a4bf-63ab-43f7-b1e6-8be4b66a31a1",
     "showTitle": false,
     "tableResultSettingsMap": {},
     "title": ""
    }
   },
   "outputs": [],
   "source": [
    "dbutils.widgets.text(\"catalog\", \"amitabh_arora_catalog\")\n",
    "dbutils.widgets.text(\"schema\", \"demo_vectorization\")"
   ]
  },
  {
   "cell_type": "code",
   "execution_count": 0,
   "metadata": {
    "application/vnd.databricks.v1+cell": {
     "cellMetadata": {
      "byteLimit": 2048000,
      "rowLimit": 10000
     },
     "inputWidgets": {},
     "nuid": "268d7d5a-37ae-497c-82a6-af0ca64dda5e",
     "showTitle": false,
     "tableResultSettingsMap": {},
     "title": ""
    }
   },
   "outputs": [],
   "source": [
    "retailer_names_tbl = \"retailer_names\""
   ]
  },
  {
   "cell_type": "code",
   "execution_count": 0,
   "metadata": {
    "application/vnd.databricks.v1+cell": {
     "cellMetadata": {
      "byteLimit": 2048000,
      "rowLimit": 10000
     },
     "inputWidgets": {},
     "nuid": "c5bb44fc-a74d-4864-8d59-372cec908ca9",
     "showTitle": false,
     "tableResultSettingsMap": {},
     "title": ""
    }
   },
   "outputs": [],
   "source": [
    "catalog = dbutils.widgets.get(\"catalog\")\n",
    "spark.sql(f\"CREATE CATALOG IF NOT EXISTS {catalog}\")"
   ]
  },
  {
   "cell_type": "code",
   "execution_count": 0,
   "metadata": {
    "application/vnd.databricks.v1+cell": {
     "cellMetadata": {
      "byteLimit": 2048000,
      "rowLimit": 10000
     },
     "inputWidgets": {},
     "nuid": "e56eca63-8d4b-41d1-92e4-5006702c45b9",
     "showTitle": false,
     "tableResultSettingsMap": {},
     "title": ""
    }
   },
   "outputs": [],
   "source": [
    "schema = dbutils.widgets.get(\"schema\")\n",
    "spark.sql(f\"CREATE SCHEMA IF NOT EXISTS {catalog}.`{schema}`\")"
   ]
  },
  {
   "cell_type": "code",
   "execution_count": 0,
   "metadata": {
    "application/vnd.databricks.v1+cell": {
     "cellMetadata": {
      "byteLimit": 2048000,
      "rowLimit": 10000
     },
     "inputWidgets": {},
     "nuid": "36124a89-86e0-457b-8853-6ed086771fee",
     "showTitle": false,
     "tableResultSettingsMap": {},
     "title": ""
    }
   },
   "outputs": [],
   "source": [
    "retailer_names = [\n",
    "    \"Walmart\",\n",
    "    \"Amazon\",\n",
    "    \"Costco\",\n",
    "    \"Target\",\n",
    "    \"The Home Depot\",\n",
    "    \"Walgreens\",\n",
    "    \"Kroger\",\n",
    "    \"CVS\",\n",
    "    \"Lowe's\",\n",
    "    \"Best Buy\",\n",
    "    \"Macy's\",\n",
    "    \"Nordstrom\",\n",
    "    \"Sears\",\n",
    "    \"Sam's Club\",\n",
    "    \"Aldi\",\n",
    "    \"IKEA\",\n",
    "    \"Publix\",\n",
    "    \"Dollar General\",\n",
    "    \"Trader Joe's\",\n",
    "    \"7-Eleven\",\n",
    "]"
   ]
  },
  {
   "cell_type": "code",
   "execution_count": 0,
   "metadata": {
    "application/vnd.databricks.v1+cell": {
     "cellMetadata": {
      "byteLimit": 2048000,
      "rowLimit": 10000
     },
     "inputWidgets": {},
     "nuid": "79cf694b-069d-4bf3-af0d-169e037a36f4",
     "showTitle": false,
     "tableResultSettingsMap": {},
     "title": ""
    }
   },
   "outputs": [],
   "source": [
    "retailer_names += [\n",
    "    \"AMAZILES MARIA GONCALVES\",\n",
    "    \"AMAZING - STADIUM\",\n",
    "    \"AMAZING STYLE SLU\",\n",
    "    \"AMAZON EU SARL\",\n",
    "    \"AMAZON EU SARL\",\n",
    "    \"AMAZON EU SARL   **IA**\",\n",
    "    \"AMAZON EU SARL -CZE-\",\n",
    "    \"AMAZON EU SARL -POLEN-\",\n",
    "    \"AMAZON EU SARL -POLEN-\",\n",
    "    \"AMAZON EU SARL / BUY   **IA**\",\n",
    "    \"AMAZON EU SARL / MUTTER *IA*\",\n",
    "    \"AMAZON EU SARL SUCURSAL ESPANA\",\n",
    "    \"AMAZON EU SARL SUCURSAL ESPANA\",\n",
    "    \"AMAZON EU SARL/MEDIA EU SARL\",\n",
    "    \"AMAZON EU SARL/MEDIA EU SARL\",\n",
    "    \"AMAZON FOOTWEAR\",\n",
    "    \"AMAZON PAN EU PARENT\",\n",
    "    \"AMAZON SERVS VAREJO DO BR LTDA\",\n",
    "    \"AMAZON SMART HOME SERVICES\",\n",
    "    \"AMAZON VINE PROMO\",\n",
    "    \"AMAZON.COM LLC\",\n",
    "    \"AMAZON.COM LLC\",\n",
    "    \"AMAZON.COM.CA INC\",\n",
    "    \"AMAZONE\",\n",
    "    \"ARIZONA/AMAZONE\",\n",
    "    \"Amazon Japan K.K.\"\n",
    "]"
   ]
  },
  {
   "cell_type": "code",
   "execution_count": 0,
   "metadata": {
    "application/vnd.databricks.v1+cell": {
     "cellMetadata": {
      "byteLimit": 2048000,
      "rowLimit": 10000
     },
     "inputWidgets": {},
     "nuid": "f562dddf-f4d0-4553-a033-ac22da21f1ec",
     "showTitle": false,
     "tableResultSettingsMap": {},
     "title": ""
    }
   },
   "outputs": [],
   "source": [
    "retailer_names += [\n",
    "    \"KOHL's\",\n",
    "    \"Kohl's\",\n",
    "    \"Kohls\",\n",
    "    \"Kohls\"\n",
    "]"
   ]
  },
  {
   "cell_type": "code",
   "execution_count": 0,
   "metadata": {
    "application/vnd.databricks.v1+cell": {
     "cellMetadata": {
      "byteLimit": 2048000,
      "rowLimit": 10000
     },
     "inputWidgets": {},
     "nuid": "ef7ede02-b3c9-4d0a-9622-2d89c1780a44",
     "showTitle": false,
     "tableResultSettingsMap": {},
     "title": ""
    }
   },
   "outputs": [],
   "source": [
    "retailer_names += [\n",
    "    \"Macy's\",\n",
    "    \"Macys\"\n",
    "]"
   ]
  },
  {
   "cell_type": "code",
   "execution_count": 0,
   "metadata": {
    "application/vnd.databricks.v1+cell": {
     "cellMetadata": {
      "byteLimit": 2048000,
      "rowLimit": 10000
     },
     "inputWidgets": {},
     "nuid": "3f881f3f-115e-4dd9-a223-b8ac5b3da003",
     "showTitle": false,
     "tableResultSettingsMap": {},
     "title": ""
    }
   },
   "outputs": [],
   "source": [
    "df = spark.createDataFrame([(name,) for name in retailer_names], [\"cust_name\"])\n",
    "df.write.mode(\"overwrite\").saveAsTable(f\"`{catalog}`.`{schema}`.`{retailer_names_tbl}`\")"
   ]
  },
  {
   "cell_type": "code",
   "execution_count": 0,
   "metadata": {
    "application/vnd.databricks.v1+cell": {
     "cellMetadata": {
      "byteLimit": 2048000,
      "rowLimit": 10000
     },
     "inputWidgets": {},
     "nuid": "dc32ced3-90d5-4ed8-ab37-6a3e7e5ba2a1",
     "showTitle": false,
     "tableResultSettingsMap": {},
     "title": ""
    }
   },
   "outputs": [],
   "source": [
    "query = f\"\"\"\n",
    "  select * from `{catalog}`.`{schema}`.`{retailer_names_tbl}`\n",
    "\"\"\"\n",
    "spark.sql(query).display()"
   ]
  }
 ],
 "metadata": {
  "application/vnd.databricks.v1+notebook": {
   "computePreferences": null,
   "dashboards": [],
   "environmentMetadata": {
    "base_environment": "dbe_f14fbde8-5353-4144-89be-f0a3e93fffc9",
    "environment_version": "3"
   },
   "inputWidgetPreferences": null,
   "language": "python",
   "notebookMetadata": {
    "pythonIndentUnit": 2
   },
   "notebookName": "00-create-names-table",
   "widgets": {
    "catalog": {
     "currentValue": "amitabh_arora_catalog",
     "nuid": "b9244123-6316-4f8d-8dfe-3f2fccbb1d8a",
     "typedWidgetInfo": {
      "autoCreated": false,
      "defaultValue": "amitabh_arora_catalog",
      "label": null,
      "name": "catalog",
      "options": {
       "widgetDisplayType": "Text",
       "validationRegex": null
      },
      "parameterDataType": "String"
     },
     "widgetInfo": {
      "widgetType": "text",
      "defaultValue": "amitabh_arora_catalog",
      "label": null,
      "name": "catalog",
      "options": {
       "widgetType": "text",
       "autoCreated": null,
       "validationRegex": null
      }
     }
    },
    "schema": {
     "currentValue": "demo-vectorization",
     "nuid": "673957ba-c2d2-4631-bd37-aa327e9eecf1",
     "typedWidgetInfo": {
      "autoCreated": false,
      "defaultValue": "demo_vectorization",
      "label": null,
      "name": "schema",
      "options": {
       "widgetDisplayType": "Text",
       "validationRegex": null
      },
      "parameterDataType": "String"
     },
     "widgetInfo": {
      "widgetType": "text",
      "defaultValue": "demo_vectorization",
      "label": null,
      "name": "schema",
      "options": {
       "widgetType": "text",
       "autoCreated": null,
       "validationRegex": null
      }
     }
    }
   }
  },
  "language_info": {
   "name": "python"
  }
 },
 "nbformat": 4,
 "nbformat_minor": 0
}
