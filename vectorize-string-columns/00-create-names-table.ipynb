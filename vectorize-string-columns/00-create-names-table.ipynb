{
 "cells": [
  {
   "cell_type": "markdown",
   "metadata": {
    "application/vnd.databricks.v1+cell": {
     "cellMetadata": {
      "byteLimit": 2048000,
      "rowLimit": 10000
     },
     "inputWidgets": {},
     "nuid": "d98703b0-2cd3-478f-9cc6-b84dbdf06478",
     "showTitle": false,
     "tableResultSettingsMap": {},
     "title": ""
    }
   },
   "source": [
    "# Create names table and vectorize them"
   ]
  },
  {
   "cell_type": "markdown",
   "metadata": {
    "application/vnd.databricks.v1+cell": {
     "cellMetadata": {
      "byteLimit": 2048000,
      "rowLimit": 10000
     },
     "inputWidgets": {},
     "nuid": "9539cf8b-ee99-40aa-b285-7e0f1b77aca8",
     "showTitle": false,
     "tableResultSettingsMap": {},
     "title": ""
    }
   },
   "source": [
    "## Define catalog and schemas to use & table to create"
   ]
  },
  {
   "cell_type": "code",
   "execution_count": 0,
   "metadata": {
    "application/vnd.databricks.v1+cell": {
     "cellMetadata": {
      "byteLimit": 2048000,
      "rowLimit": 10000
     },
     "inputWidgets": {},
     "nuid": "f2a6a4bf-63ab-43f7-b1e6-8be4b66a31a1",
     "showTitle": false,
     "tableResultSettingsMap": {},
     "title": ""
    }
   },
   "outputs": [],
   "source": [
    "dbutils.widgets.text(\"catalog\", \"amitabh_arora_catalog\")\n",
    "dbutils.widgets.text(\"schema\", \"demo_vectorization\")"
   ]
  },
  {
   "cell_type": "code",
   "execution_count": 0,
   "metadata": {
    "application/vnd.databricks.v1+cell": {
     "cellMetadata": {
      "byteLimit": 2048000,
      "rowLimit": 10000
     },
     "inputWidgets": {},
     "nuid": "c5bb44fc-a74d-4864-8d59-372cec908ca9",
     "showTitle": false,
     "tableResultSettingsMap": {},
     "title": ""
    }
   },
   "outputs": [],
   "source": [
    "catalog = dbutils.widgets.get(\"catalog\")\n",
    "spark.sql(f\"CREATE CATALOG IF NOT EXISTS {catalog}\")\n",
    "\n",
    "schema = dbutils.widgets.get(\"schema\")\n",
    "spark.sql(f\"CREATE SCHEMA IF NOT EXISTS {catalog}.`{schema}`\")"
   ]
  },
  {
   "cell_type": "code",
   "execution_count": 0,
   "metadata": {
    "application/vnd.databricks.v1+cell": {
     "cellMetadata": {
      "byteLimit": 2048000,
      "rowLimit": 10000
     },
     "inputWidgets": {},
     "nuid": "268d7d5a-37ae-497c-82a6-af0ca64dda5e",
     "showTitle": false,
     "tableResultSettingsMap": {},
     "title": ""
    }
   },
   "outputs": [],
   "source": [
    "retailer_names_tbl = \"retailer_names\"\n",
    "# retailer_names_tbl_path = f\"{catalog}.{schema}.{retailer_names_tbl}\""
   ]
  },
  {
   "cell_type": "markdown",
   "metadata": {
    "application/vnd.databricks.v1+cell": {
     "cellMetadata": {
      "byteLimit": 2048000,
      "rowLimit": 10000
     },
     "inputWidgets": {},
     "nuid": "d81f5e38-233b-4b1e-a71d-f3f118140835",
     "showTitle": false,
     "tableResultSettingsMap": {},
     "title": ""
    }
   },
   "source": [
    "## Create dummy dataset"
   ]
  },
  {
   "cell_type": "code",
   "execution_count": 0,
   "metadata": {
    "application/vnd.databricks.v1+cell": {
     "cellMetadata": {
      "byteLimit": 2048000,
      "rowLimit": 10000
     },
     "inputWidgets": {},
     "nuid": "36124a89-86e0-457b-8853-6ed086771fee",
     "showTitle": false,
     "tableResultSettingsMap": {},
     "title": ""
    }
   },
   "outputs": [],
   "source": [
    "retailer_names = [\n",
    "    \"Walmart\",\n",
    "    \"Amazon\",\n",
    "    \"Costco\",\n",
    "    \"Target\",\n",
    "    \"The Home Depot\",\n",
    "    \"Walgreens\",\n",
    "    \"Kroger\",\n",
    "    \"CVS\",\n",
    "    \"Lowe's\",\n",
    "    \"Best Buy\",\n",
    "    \"Macy's\",\n",
    "    \"Nordstrom\",\n",
    "    \"Sears\",\n",
    "    \"Sam's Club\",\n",
    "    \"Aldi\",\n",
    "    \"IKEA\",\n",
    "    \"Publix\",\n",
    "    \"Dollar General\",\n",
    "    \"Trader Joe's\",\n",
    "    \"7-Eleven\",\n",
    "]"
   ]
  },
  {
   "cell_type": "code",
   "execution_count": 0,
   "metadata": {
    "application/vnd.databricks.v1+cell": {
     "cellMetadata": {
      "byteLimit": 2048000,
      "rowLimit": 10000
     },
     "inputWidgets": {},
     "nuid": "79cf694b-069d-4bf3-af0d-169e037a36f4",
     "showTitle": false,
     "tableResultSettingsMap": {},
     "title": ""
    }
   },
   "outputs": [],
   "source": [
    "retailer_names += [\n",
    "    \"AMAZILES MARIA GONCALVES\",\n",
    "    \"AMAZING - STADIUM\",\n",
    "    \"AMAZING STYLE SLU\",\n",
    "    \"AMAZON EU SARL\",\n",
    "    \"AMAZON EU SARL\",\n",
    "    \"AMAZON EU SARL   **IA**\",\n",
    "    \"AMAZON EU SARL -CZE-\",\n",
    "    \"AMAZON EU SARL -POLEN-\",\n",
    "    \"AMAZON EU SARL -POLEN-\",\n",
    "    \"AMAZON EU SARL / BUY   **IA**\",\n",
    "    \"AMAZON EU SARL / MUTTER *IA*\",\n",
    "    \"AMAZON EU SARL SUCURSAL ESPANA\",\n",
    "    \"AMAZON EU SARL SUCURSAL ESPANA\",\n",
    "    \"AMAZON EU SARL/MEDIA EU SARL\",\n",
    "    \"AMAZON EU SARL/MEDIA EU SARL\",\n",
    "    \"AMAZON FOOTWEAR\",\n",
    "    \"AMAZON PAN EU PARENT\",\n",
    "    \"AMAZON SERVS VAREJO DO BR LTDA\",\n",
    "    \"AMAZON SMART HOME SERVICES\",\n",
    "    \"AMAZON VINE PROMO\",\n",
    "    \"AMAZON.COM LLC\",\n",
    "    \"AMAZON.COM LLC\",\n",
    "    \"AMAZON.COM.CA INC\",\n",
    "    \"AMAZONE\",\n",
    "    \"ARIZONA/AMAZONE\",\n",
    "    \"Amazon Japan K.K.\"\n",
    "]"
   ]
  },
  {
   "cell_type": "code",
   "execution_count": 0,
   "metadata": {
    "application/vnd.databricks.v1+cell": {
     "cellMetadata": {
      "byteLimit": 2048000,
      "rowLimit": 10000
     },
     "inputWidgets": {},
     "nuid": "f562dddf-f4d0-4553-a033-ac22da21f1ec",
     "showTitle": false,
     "tableResultSettingsMap": {},
     "title": ""
    }
   },
   "outputs": [],
   "source": [
    "retailer_names += [\n",
    "    \"KOHL's\",\n",
    "    \"Kohl's\",\n",
    "    \"Kohls\",\n",
    "    \"Kohls\"\n",
    "]"
   ]
  },
  {
   "cell_type": "code",
   "execution_count": 0,
   "metadata": {
    "application/vnd.databricks.v1+cell": {
     "cellMetadata": {
      "byteLimit": 2048000,
      "rowLimit": 10000
     },
     "inputWidgets": {},
     "nuid": "ef7ede02-b3c9-4d0a-9622-2d89c1780a44",
     "showTitle": false,
     "tableResultSettingsMap": {},
     "title": ""
    }
   },
   "outputs": [],
   "source": [
    "retailer_names += [\n",
    "    \"Macy's\",\n",
    "    \"Macys\"\n",
    "]"
   ]
  },
  {
   "cell_type": "markdown",
   "metadata": {
    "application/vnd.databricks.v1+cell": {
     "cellMetadata": {
      "byteLimit": 2048000,
      "rowLimit": 10000
     },
     "inputWidgets": {},
     "nuid": "973b3c29-df39-4b0a-ba61-e00a0bbfd5d9",
     "showTitle": false,
     "tableResultSettingsMap": {},
     "title": ""
    }
   },
   "source": [
    "## Store dataset in a table"
   ]
  },
  {
   "cell_type": "code",
   "execution_count": 0,
   "metadata": {
    "application/vnd.databricks.v1+cell": {
     "cellMetadata": {
      "byteLimit": 2048000,
      "rowLimit": 10000
     },
     "inputWidgets": {},
     "nuid": "3f881f3f-115e-4dd9-a223-b8ac5b3da003",
     "showTitle": false,
     "tableResultSettingsMap": {},
     "title": ""
    }
   },
   "outputs": [],
   "source": [
    "df = spark.createDataFrame([(name,) for name in retailer_names], [\"cust_name\"])\n",
    "df.write.mode(\"overwrite\").saveAsTable(f\"`{catalog}`.`{schema}`.`{retailer_names_tbl}`\")"
   ]
  },
  {
   "cell_type": "markdown",
   "metadata": {
    "application/vnd.databricks.v1+cell": {
     "cellMetadata": {
      "byteLimit": 2048000,
      "rowLimit": 10000
     },
     "inputWidgets": {},
     "nuid": "38d91f1a-6a29-4492-9ec1-3210904bd115",
     "showTitle": false,
     "tableResultSettingsMap": {},
     "title": ""
    }
   },
   "source": [
    "## Display table with embeddings"
   ]
  },
  {
   "cell_type": "code",
   "execution_count": 0,
   "metadata": {
    "application/vnd.databricks.v1+cell": {
     "cellMetadata": {
      "byteLimit": 2048000,
      "rowLimit": 10000
     },
     "inputWidgets": {},
     "nuid": "dc32ced3-90d5-4ed8-ab37-6a3e7e5ba2a1",
     "showTitle": false,
     "tableResultSettingsMap": {
      "0": {
       "dataGridStateBlob": "{\"version\":1,\"tableState\":{\"columnPinning\":{\"left\":[\"#row_number#\"],\"right\":[]},\"columnSizing\":{},\"columnVisibility\":{}},\"settings\":{\"columns\":{}},\"syncTimestamp\":1753398251951}",
       "filterBlob": null,
       "queryPlanFiltersBlob": null,
       "tableResultIndex": 0
      }
     },
     "title": ""
    }
   },
   "outputs": [],
   "source": [
    "query = f\"\"\"\n",
    "  select * from `{catalog}`.`{schema}`.`{retailer_names_tbl}`\n",
    "\"\"\"\n",
    "spark.sql(query).display()"
   ]
  },
  {
   "cell_type": "markdown",
   "metadata": {
    "application/vnd.databricks.v1+cell": {
     "cellMetadata": {
      "byteLimit": 2048000,
      "rowLimit": 10000
     },
     "inputWidgets": {},
     "nuid": "ab24115b-eba5-4c9e-a36a-470375ad7f15",
     "showTitle": false,
     "tableResultSettingsMap": {},
     "title": ""
    }
   },
   "source": [
    "## Vectorize names and save them as embedings column\n",
    "We will use Databricks hosted model suitable for such tasks"
   ]
  },
  {
   "cell_type": "code",
   "execution_count": 0,
   "metadata": {
    "application/vnd.databricks.v1+cell": {
     "cellMetadata": {
      "byteLimit": 2048000,
      "rowLimit": 10000
     },
     "inputWidgets": {},
     "nuid": "ab89a51c-a1af-4135-9617-8ee01061e618",
     "showTitle": true,
     "tableResultSettingsMap": {},
     "title": "build vector column"
    }
   },
   "outputs": [],
   "source": [
    "query = f\"\"\"\n",
    "  SELECT\n",
    "    cust_name,\n",
    "    ai_query('databricks-gte-large-en', cust_name) AS vector_embedding\n",
    "  FROM `{catalog}`.`{schema}`.`{retailer_names_tbl}`\n",
    "\"\"\"\n",
    "df = spark.sql(query)"
   ]
  },
  {
   "cell_type": "code",
   "execution_count": 0,
   "metadata": {
    "application/vnd.databricks.v1+cell": {
     "cellMetadata": {
      "byteLimit": 2048000,
      "rowLimit": 10000
     },
     "inputWidgets": {},
     "nuid": "0ee37d93-fcd7-4c3b-96ed-176a79fa0aec",
     "showTitle": true,
     "tableResultSettingsMap": {},
     "title": "save the new df to the table"
    }
   },
   "outputs": [],
   "source": [
    "df.write.mode(\"overwrite\") \\\n",
    "    .option(\"mergeSchema\", \"true\") \\\n",
    "    .saveAsTable(f\"`{catalog}`.`{schema}`.`{retailer_names_tbl}`\")"
   ]
  },
  {
   "cell_type": "code",
   "execution_count": 0,
   "metadata": {
    "application/vnd.databricks.v1+cell": {
     "cellMetadata": {
      "byteLimit": 2048000,
      "rowLimit": 10000
     },
     "inputWidgets": {},
     "nuid": "f4a4ae0d-4e10-4490-9e68-11116e3ce119",
     "showTitle": false,
     "tableResultSettingsMap": {},
     "title": ""
    }
   },
   "outputs": [],
   "source": [
    "display(spark.table(f\"`{catalog}`.`{schema}`.`{retailer_names_tbl}`\"))"
   ]
  },
  {
   "cell_type": "markdown",
   "metadata": {
    "application/vnd.databricks.v1+cell": {
     "cellMetadata": {
      "byteLimit": 2048000,
      "rowLimit": 10000
     },
     "inputWidgets": {},
     "nuid": "02966795-998e-4052-8cd6-82329cefcdec",
     "showTitle": false,
     "tableResultSettingsMap": {},
     "title": ""
    }
   },
   "source": [
    "## Define dot_product UDF"
   ]
  },
  {
   "cell_type": "code",
   "execution_count": 0,
   "metadata": {
    "application/vnd.databricks.v1+cell": {
     "cellMetadata": {
      "byteLimit": 2048000,
      "rowLimit": 10000
     },
     "inputWidgets": {},
     "nuid": "de2b3336-3f5e-4e00-a05d-dce4b034a7bd",
     "showTitle": false,
     "tableResultSettingsMap": {},
     "title": ""
    }
   },
   "outputs": [],
   "source": [
    "from pyspark.sql.functions import udf\n",
    "from pyspark.sql.types import DoubleType\n",
    "import numpy as np\n",
    "\n",
    "def dot_product(vec1, vec2):\n",
    "    # Both vec1 and vec2 should be iterable (e.g., list or array)\n",
    "    return float(np.dot(vec1, vec2))\n",
    "\n",
    "# Register as a regular UDF for Spark DataFrames/sql\n",
    "dot_product_udf = udf(dot_product, DoubleType())\n",
    "spark.udf.register(\"dot_product\", dot_product_udf)"
   ]
  },
  {
   "cell_type": "markdown",
   "metadata": {
    "application/vnd.databricks.v1+cell": {
     "cellMetadata": {
      "byteLimit": 2048000,
      "rowLimit": 10000
     },
     "inputWidgets": {},
     "nuid": "db18f681-d0f7-4e14-8f76-2e96e497d29c",
     "showTitle": false,
     "tableResultSettingsMap": {},
     "title": ""
    }
   },
   "source": [
    "## Define vector_norm UDF"
   ]
  },
  {
   "cell_type": "code",
   "execution_count": 0,
   "metadata": {
    "application/vnd.databricks.v1+cell": {
     "cellMetadata": {
      "byteLimit": 2048000,
      "rowLimit": 10000
     },
     "inputWidgets": {},
     "nuid": "ba881247-0649-42a6-be18-142b73ec1aeb",
     "showTitle": false,
     "tableResultSettingsMap": {},
     "title": ""
    }
   },
   "outputs": [],
   "source": [
    "from pyspark.sql.functions import udf\n",
    "from pyspark.sql.types import DoubleType\n",
    "import numpy as np\n",
    "\n",
    "def vector_norm(vec, ord=2):\n",
    "    # vec should be a list or array of numbers\n",
    "    return float(np.linalg.norm(vec, ord))\n",
    "\n",
    "vector_norm_udf = udf(vector_norm, DoubleType())\n",
    "\n",
    "# Register UDF for SQL use in Databricks\n",
    "spark.udf.register(\"vector_norm\", vector_norm_udf)"
   ]
  },
  {
   "cell_type": "markdown",
   "metadata": {
    "application/vnd.databricks.v1+cell": {
     "cellMetadata": {
      "byteLimit": 2048000,
      "rowLimit": 10000
     },
     "inputWidgets": {},
     "nuid": "327e70ca-2f08-42d9-855f-27c63ff4bbe2",
     "showTitle": false,
     "tableResultSettingsMap": {},
     "title": ""
    }
   },
   "source": [
    "## Set default catalog and schema"
   ]
  },
  {
   "cell_type": "code",
   "execution_count": 0,
   "metadata": {
    "application/vnd.databricks.v1+cell": {
     "cellMetadata": {
      "byteLimit": 2048000,
      "rowLimit": 10000
     },
     "inputWidgets": {},
     "nuid": "c3b5b523-d416-4577-a928-17a47db258d9",
     "showTitle": false,
     "tableResultSettingsMap": {},
     "title": ""
    }
   },
   "outputs": [],
   "source": [
    "spark.sql(f\"USE CATALOG `{catalog}`\")\n",
    "spark.sql(f\"USE SCHEMA `{schema}`\")"
   ]
  },
  {
   "cell_type": "markdown",
   "metadata": {
    "application/vnd.databricks.v1+cell": {
     "cellMetadata": {
      "byteLimit": 2048000,
      "rowLimit": 10000
     },
     "inputWidgets": {},
     "nuid": "79d82334-8217-43c5-9dcf-63c203aa2069",
     "showTitle": false,
     "tableResultSettingsMap": {},
     "title": ""
    }
   },
   "source": [
    "## Test the embeddings"
   ]
  },
  {
   "cell_type": "code",
   "execution_count": 0,
   "metadata": {
    "application/vnd.databricks.v1+cell": {
     "cellMetadata": {
      "byteLimit": 2048000,
      "implicitDf": true,
      "rowLimit": 10000
     },
     "inputWidgets": {},
     "nuid": "0bc9551e-f119-493b-9cea-ef56f50f7efe",
     "showTitle": false,
     "tableResultSettingsMap": {},
     "title": ""
    }
   },
   "outputs": [],
   "source": [
    "%sql\n",
    "WITH\n",
    "query_embedding AS (\n",
    "  SELECT\n",
    "    ai_query('databricks-gte-large-en', 'kohls') AS emb\n",
    ")\n",
    "SELECT\n",
    "  t.cust_name,\n",
    "  t.vector_embedding,\n",
    "  q.emb,\n",
    "  -- Calculate cosine similarity\n",
    "  dot_product(t.vector_embedding, q.emb) AS cosine_sim\n",
    "FROM\n",
    "  amitabh_arora_catalog.`demo-vectorization`.retailer_names t, query_embedding q\n",
    "WHERE\n",
    "  dot_product(t.vector_embedding, q.emb) > 0.99\n",
    "ORDER BY\n",
    "  cosine_sim DESC"
   ]
  }
 ],
 "metadata": {
  "application/vnd.databricks.v1+notebook": {
   "computePreferences": null,
   "dashboards": [],
   "environmentMetadata": {
    "base_environment": "dbe_f14fbde8-5353-4144-89be-f0a3e93fffc9",
    "environment_version": "3"
   },
   "inputWidgetPreferences": null,
   "language": "python",
   "notebookMetadata": {
    "mostRecentlyExecutedCommandWithImplicitDF": {
     "commandId": 8376011036725474,
     "dataframes": [
      "_sqldf"
     ]
    },
    "pythonIndentUnit": 2
   },
   "notebookName": "00-create-names-table",
   "widgets": {
    "catalog": {
     "currentValue": "amitabh_arora_catalog",
     "nuid": "b9244123-6316-4f8d-8dfe-3f2fccbb1d8a",
     "typedWidgetInfo": {
      "autoCreated": false,
      "defaultValue": "amitabh_arora_catalog",
      "label": null,
      "name": "catalog",
      "options": {
       "widgetDisplayType": "Text",
       "validationRegex": null
      },
      "parameterDataType": "String"
     },
     "widgetInfo": {
      "widgetType": "text",
      "defaultValue": "amitabh_arora_catalog",
      "label": null,
      "name": "catalog",
      "options": {
       "widgetType": "text",
       "autoCreated": null,
       "validationRegex": null
      }
     }
    },
    "schema": {
     "currentValue": "demo-vectorization",
     "nuid": "673957ba-c2d2-4631-bd37-aa327e9eecf1",
     "typedWidgetInfo": {
      "autoCreated": false,
      "defaultValue": "demo_vectorization",
      "label": null,
      "name": "schema",
      "options": {
       "widgetDisplayType": "Text",
       "validationRegex": null
      },
      "parameterDataType": "String"
     },
     "widgetInfo": {
      "widgetType": "text",
      "defaultValue": "demo_vectorization",
      "label": null,
      "name": "schema",
      "options": {
       "widgetType": "text",
       "autoCreated": null,
       "validationRegex": null
      }
     }
    }
   }
  },
  "language_info": {
   "name": "python"
  }
 },
 "nbformat": 4,
 "nbformat_minor": 0
}
