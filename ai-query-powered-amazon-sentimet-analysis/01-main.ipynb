{
 "cells": [
  {
   "cell_type": "markdown",
   "metadata": {
    "application/vnd.databricks.v1+cell": {
     "cellMetadata": {
      "byteLimit": 2048000,
      "rowLimit": 10000
     },
     "inputWidgets": {},
     "nuid": "ff516a73-e597-4e5c-a710-e50a30c733e1",
     "showTitle": false,
     "tableResultSettingsMap": {},
     "title": ""
    }
   },
   "source": [
    "\n",
    "## Set detault catalog and schema"
   ]
  },
  {
   "cell_type": "code",
   "execution_count": 0,
   "metadata": {
    "application/vnd.databricks.v1+cell": {
     "cellMetadata": {
      "byteLimit": 2048000,
      "rowLimit": 10000
     },
     "inputWidgets": {},
     "nuid": "61262cc2-6b8b-466f-9f8d-4c53ba06d9fc",
     "showTitle": false,
     "tableResultSettingsMap": {},
     "title": ""
    }
   },
   "outputs": [],
   "source": [
    "USE amitabh_arora_catalog.bright_data_amazon_reviews;"
   ]
  },
  {
   "cell_type": "markdown",
   "metadata": {
    "application/vnd.databricks.v1+cell": {
     "cellMetadata": {},
     "inputWidgets": {},
     "nuid": "7e06861e-3ba9-4d87-9ef5-0f3477f7cb71",
     "showTitle": false,
     "tableResultSettingsMap": {},
     "title": ""
    }
   },
   "source": [
    "## Display dataset"
   ]
  },
  {
   "cell_type": "code",
   "execution_count": 0,
   "metadata": {
    "application/vnd.databricks.v1+cell": {
     "cellMetadata": {
      "byteLimit": 2048000,
      "rowLimit": 10000
     },
     "inputWidgets": {},
     "nuid": "3fda8197-f5d4-4ead-b2d8-a5929a45b708",
     "showTitle": false,
     "tableResultSettingsMap": {},
     "title": ""
    }
   },
   "outputs": [],
   "source": [
    "SELECT *\n",
    "FROM amazon_reviews\n",
    "LIMIT 10"
   ]
  },
  {
   "cell_type": "markdown",
   "metadata": {
    "application/vnd.databricks.v1+cell": {
     "cellMetadata": {
      "byteLimit": 2048000,
      "rowLimit": 10000
     },
     "inputWidgets": {},
     "nuid": "4ffde91a-7977-4f8d-9d91-ac57f5e64a01",
     "showTitle": false,
     "tableResultSettingsMap": {},
     "title": ""
    }
   },
   "source": [
    "## Using ai_analyze_sentiment()"
   ]
  },
  {
   "cell_type": "code",
   "execution_count": 0,
   "metadata": {
    "application/vnd.databricks.v1+cell": {
     "cellMetadata": {
      "byteLimit": 2048000,
      "rowLimit": 10000
     },
     "inputWidgets": {},
     "nuid": "205226e7-497e-4b4a-9bd5-34dc89c0fe00",
     "showTitle": false,
     "tableResultSettingsMap": {},
     "title": ""
    }
   },
   "outputs": [],
   "source": [
    "SELECT\n",
    "  TIMESTAMP,\n",
    "  ai_analyze_sentiment(REVIEW_TEXT) as sentiment,\n",
    "  REVIEW_TEXT,\n",
    "  PRODUCT_NAME,\n",
    "  PRODUCT_RATING,\n",
    "  PRODUCT_RATING_OBJECT,\n",
    "  PRODUCT_RATING_COUNT,\n",
    "  PRODUCT_REVIEWS_NUMBER\n",
    "FROM amazon_reviews\n",
    "LIMIT 10"
   ]
  },
  {
   "cell_type": "markdown",
   "metadata": {
    "application/vnd.databricks.v1+cell": {
     "cellMetadata": {
      "byteLimit": 2048000,
      "rowLimit": 10000
     },
     "inputWidgets": {},
     "nuid": "5cf43f91-badd-4d0a-8c26-8f1c586af5bd",
     "showTitle": false,
     "tableResultSettingsMap": {},
     "title": ""
    }
   },
   "source": [
    "For example this review was classified as positive:\n",
    "\n",
    "```\n",
    "First thing I did was watch several videos on how to use this item.  This soup\n",
    "maker works as well as much more expensive ones shown on those videos.  I was\n",
    "surprised at how quickly it makes a great tasting soup.  The portion is great\n",
    "for the two of us with a little bit left over.\n",
    "```"
   ]
  },
  {
   "cell_type": "markdown",
   "metadata": {
    "application/vnd.databricks.v1+cell": {
     "cellMetadata": {
      "byteLimit": 2048000,
      "rowLimit": 10000
     },
     "inputWidgets": {},
     "nuid": "4fda0df7-ae78-46cc-9afc-4981cb0adaf8",
     "showTitle": false,
     "tableResultSettingsMap": {},
     "title": ""
    }
   },
   "source": [
    "## Using ai_query()\n",
    "\n",
    "ai_query() will allow you to specify your own model, prompt, and structured output response. It enables high throughput performance with no need for complex configuration.\n",
    "\n",
    "Lets take a look at sample data below:\n",
    "```I got soup. It took only 20 minutes to make some good soup. The noises\n",
    "it makes when blending are somewhat terrifying, but it gives a little\n",
    "beep to warn you before it does that. It made three or four large\n",
    "servings of soup. It's a single layer of steel, so the outside gets\n",
    "pretty hot. It can be hard to unplug the lid without knocking the\n",
    "blender against the side, which is not a pleasant sound. The soup was\n",
    "good, and its recipes look delicious, but I'm still determining if I'll\n",
    "use it often. Twenty minutes of scary noises from the kitchen when I\n",
    "need comfort food could be better for me. But if you aren't sensitive to\n",
    "loud sounds, it does exactly what it says it does.\n",
    "```\n",
    "\n",
    "Next, we should decide what we want in the output. Ideally, we could extract the critical opinions, record the sentiment, and classify the mention into a relevant category. The response might look like this:\n",
    "```\n",
    "[\n",
    " {\n",
    "\t'Classification': 'EFFICIENCY',\n",
    "  'Comment': 'only 20 minutes',\n",
    "  'Sentiment': 'Positive'\n",
    " },\n",
    " ...\n",
    "]\n",
    "```\n",
    "\n",
    "To produce this output, we’ll construct a SQL query that uses ai_query() to call an LLM. We’ll create a custom prompt that instructs the LLM to classify reviews into our desired categories and provide a sample review and output to improve the quality of the response. We'll also specify a responseFormat, which defines a structured output that we want the result returned in.\n"
   ]
  },
  {
   "cell_type": "code",
   "execution_count": 0,
   "metadata": {
    "application/vnd.databricks.v1+cell": {
     "cellMetadata": {
      "byteLimit": 2048000,
      "rowLimit": 10000
     },
     "inputWidgets": {},
     "nuid": "5e811383-b6ec-469f-a58f-1c07f54a3df8",
     "showTitle": false,
     "tableResultSettingsMap": {},
     "title": ""
    }
   },
   "outputs": [],
   "source": [
    "SELECT\n",
    "timestamp,\n",
    " ai_query(\n",
    "   \"databricks-meta-llama-3-3-70b-instruct\",\n",
    "   request => concat(\"You are an opinion mining service. Given a piece of text, output an array of json results that extracts key user opinions, a classification, and a Positive, Negative, Neutral, or Mixed sentiment about that subject. Classifications must be one of the following answers: QUALITY, SERVICE, EFFICIENCY, DURABILITY, BATTERY LIFE, DESIGN, SAFETY, USABILITY, PRICE, COMFORT, OTHER. You cannot hallucinate your own classification category.\n",
    "\n",
    " Examples below:\n",
    "\n",
    " DOCUMENT\n",
    " I got soup. It really did take only 20 minutes to make some pretty good soup.The noises it makes when it's blending are somewhat terrifying, but it gives a little beep to warn you before it does that.It made three or four large servings of soup.It's a single layer of steel, so the outside gets pretty hot. It can be hard to unplug the lid without knocking the blender against the side, which is not a pleasant sound.The soup was good and the recipes it comes with look delicious, but I'm not sure I'll use it often. 20 minutes of scary noises from the kitchen when I already need comfort food is not ideal for me. But if you aren't sensitive to loud sounds it does precisely what it says it does.\n",
    "\n",
    " RESULT\n",
    " [\n",
    " {'Classification': 'EFFICIENCY', 'Comment': 'only 20 minutes','Sentiment': 'Positive'},\n",
    " {'Classification': 'QUALITY','Comment': 'pretty good soup','Sentiment': 'Positive'},\n",
    " {'Classification': 'QUALITY', 'Comment': 'noises it makes when it's blending are somewhat terrifying', 'Sentiment': 'Negative'},\n",
    " {'Classification': 'SAFETY','Comment': 'outside gets pretty hot','Sentiment': 'Negative'},\n",
    " {'Classification': 'DESIGN','Comment': 'Hard to unplug the lid without knocking the blender against the side, which is not a nice sound', 'Sentiment': 'Negative'}\n",
    " ]\n",
    "\n",
    "DOCUMENT\\n\",\n",
    "       REVIEW_TEXT,\n",
    "       '\\n\\nRESULT\\n'\n",
    "     ),\n",
    "     responseFormat => '{\n",
    "    \"type\": \"json_schema\",\n",
    "    \"json_schema\": {\n",
    "      \"name\": \"opinion_mining_schema\",\n",
    "      \"schema\": {\n",
    "          \"type\": \"array\",\n",
    "          \"items\": {\n",
    "            \"type\": \"object\",\n",
    "            \"properties\": {\n",
    "              \"classification\": { \"type\": \"string\" },\n",
    "              \"comment\": { \"type\": \"string\" },\n",
    "              \"sentiment\": { \"type\": \"string\" }\n",
    "            }\n",
    "          }\n",
    "      },\n",
    "      \"strict\": true\n",
    "    }\n",
    "  }'\n",
    "   ) as extracted_opinions,\n",
    "   REVIEW_TEXT\n",
    " FROM\n",
    "   amazon_reviews\n",
    " limit 10"
   ]
  },
  {
   "cell_type": "markdown",
   "metadata": {
    "application/vnd.databricks.v1+cell": {
     "cellMetadata": {
      "byteLimit": 2048000,
      "rowLimit": 10000
     },
     "inputWidgets": {},
     "nuid": "9b7df1e5-bd49-4407-8a1f-9bd62a83c422",
     "showTitle": false,
     "tableResultSettingsMap": {},
     "title": ""
    }
   },
   "source": [
    "## Optimize the process\n",
    "\n",
    "Now that we know this works, we can make a few improvements.\n",
    "\n",
    "1. Extract the JSON columns.\n",
    "2. Filter out any hallucinated values that don’t match our desired classifications.\n",
    "3. Create a materialized view to store these results so we don’t have to recompute the LLM outputs each time we want to look at our dashboard. You can refresh the materialized view whenever you want to incrementally compute more review opinions without needing to rescan the entire dataset.\n",
    "\n",
    "**NOTE: Execute this query. It may take some time to complete, so make a cup of coffee or tea until the query completes.**"
   ]
  },
  {
   "cell_type": "code",
   "execution_count": 0,
   "metadata": {
    "application/vnd.databricks.v1+cell": {
     "cellMetadata": {
      "byteLimit": 2048000,
      "rowLimit": 10000
     },
     "inputWidgets": {},
     "nuid": "db646aae-1b33-47ac-9e29-fc20596fa89c",
     "showTitle": false,
     "tableResultSettingsMap": {},
     "title": ""
    }
   },
   "outputs": [],
   "source": [
    "CREATE MATERIALIZED VIEW opinion_mining_mv\n",
    "AS\n",
    "WITH reviews AS (\n",
    "  -- calculate opinions\n",
    "  SELECT\n",
    "    *,\n",
    "    ai_query(\n",
    "      \"databricks-meta-llama-3-3-70b-instruct\",\n",
    "      request => concat(\n",
    "        \"You are an opinion mining service. Given a piece of text, output an array of json results that extracts key user opinions, a classification, and a Positive, Negative, Neutral, or Mixed sentiment about that subject. Classifications must be one of the following answers: QUALITY, SERVICE, EFFICIENCY, DURABILITY, BATTERY LIFE, DESIGN, SAFETY, USABILITY, PRICE, COMFORT, OTHER. You cannot hallucinate your own classification category.\n",
    "\n",
    "        Examples below:\n",
    "\n",
    "        DOCUMENT\n",
    "        I got soup. It really did take only 20 minutes to make some pretty good soup.The noises it makes when it's blending are somewhat terrifying, but it gives a little beep to warn you before it does that.It made three or four large servings of soup.It's a single layer of steel, so the outside gets pretty hot. It can be hard to unplug the lid without knocking the blender against the side, which is not a pleasant sound.The soup was good and the recipes it comes with look delicious, but I'm not sure I'll use it often. 20 minutes of scary noises from the kitchen when I already need comfort food is not ideal for me. But if you aren't sensitive to loud sounds it does precisely what it says it does.\n",
    "\n",
    "        RESULT\n",
    "        [\n",
    "          {'Classification': 'EFFICIENCY', 'Comment': 'only 20 minutes','Sentiment': 'Positive'},\n",
    "          {'Classification': 'QUALITY','Comment': 'pretty good soup','Sentiment': 'Positive'},\n",
    "          {'Classification': 'QUALITY', 'Comment': 'noises it makes when it's blending are somewhat terrifying', 'Sentiment': 'Negative'},\n",
    "          {'Classification': 'SAFETY','Comment': 'outside gets pretty hot','Sentiment': 'Negative'},\n",
    "          {'Classification': 'DESIGN','Comment': 'Hard to unplug the lid without knocking the blender against the side, which is not a nice sound', 'Sentiment': 'Negative'}\n",
    "        ]\n",
    "\n",
    "        DOCUMENT\\n\",\n",
    "        REVIEW_TEXT,\n",
    "        '\\n\\nRESULT\\n'\n",
    "      ),\n",
    "      responseFormat => '{\n",
    "        \"type\": \"json_schema\",\n",
    "        \"json_schema\": {\n",
    "          \"name\": \"opinion_mining_schema\",\n",
    "          \"schema\": {\n",
    "            \"type\": \"array\",\n",
    "            \"items\": {\n",
    "              \"type\": \"object\",\n",
    "              \"properties\": {\n",
    "                \"classification\": { \"type\": \"string\" },\n",
    "                \"comment\": { \"type\": \"string\" },\n",
    "                \"sentiment\": { \"type\": \"string\" }\n",
    "              }\n",
    "            }\n",
    "          },\n",
    "          \"strict\": true\n",
    "        }\n",
    "      }'\n",
    "    ) AS extracted_opinions\n",
    "  FROM\n",
    "    amazon_reviews\n",
    "), opinions AS (\n",
    "  -- explode json into columns\n",
    "  SELECT\n",
    "    opinion_col.classification AS Classification,\n",
    "    opinion_col.comment AS Comment,\n",
    "    opinion_col.sentiment AS Sentiment,\n",
    "    *\n",
    "  FROM\n",
    "    reviews LATERAL VIEW explode(\n",
    "      from_json(\n",
    "        extracted_opinions,\n",
    "        'array<struct<classification:string, comment:string, sentiment:string>>'\n",
    "      )\n",
    "    ) AS opinion_col\n",
    ")\n",
    "SELECT\n",
    "  *\n",
    "FROM\n",
    "  opinions\n",
    "WHERE\n",
    "  classification IN (\"QUALITY\", \"SERVICE\", \"EFFICIENCY\", \"DURABILITY\", \"BATTERY LIFE\", \"DESIGN\", \"SAFETY\", \"USABILITY\", \"PRICE\", \"COMFORT\", \"OTHER\")"
   ]
  }
 ],
 "metadata": {
  "application/vnd.databricks.v1+notebook": {
   "computePreferences": null,
   "dashboards": [],
   "environmentMetadata": {
    "base_environment": "",
    "environment_version": "2"
   },
   "inputWidgetPreferences": null,
   "language": "sql",
   "notebookMetadata": {
    "pythonIndentUnit": 2
   },
   "notebookName": "01-main",
   "widgets": {}
  },
  "language_info": {
   "name": "sql"
  }
 },
 "nbformat": 4,
 "nbformat_minor": 0
}
