{
 "cells": [
  {
   "cell_type": "code",
   "execution_count": 0,
   "metadata": {
    "application/vnd.databricks.v1+cell": {
     "cellMetadata": {
      "byteLimit": 2048000,
      "rowLimit": 10000
     },
     "inputWidgets": {},
     "nuid": "97bc8e16-10a4-4a27-85a8-7f56c08c1dc8",
     "showTitle": false,
     "tableResultSettingsMap": {},
     "title": ""
    }
   },
   "outputs": [],
   "source": [
    "from pyspark.sql.functions import monotonically_increasing_id\n",
    "\n",
    "df = spark.read.csv(\"dbfs:/Volumes/amitabh_arora_catalog/playground/files/customer_names.csv\", header=True, inferSchema=True)\n",
    "df = df.withColumn(\"id\", monotonically_increasing_id()).select(\"id\", \"cust_name\")\n",
    "# display(df)"
   ]
  },
  {
   "cell_type": "code",
   "execution_count": 0,
   "metadata": {
    "application/vnd.databricks.v1+cell": {
     "cellMetadata": {
      "byteLimit": 2048000,
      "rowLimit": 10000
     },
     "inputWidgets": {},
     "nuid": "a5ccc818-143c-4df4-9dd9-3b7ffe82d8b8",
     "showTitle": true,
     "tableResultSettingsMap": {},
     "title": "remove leading quotes"
    }
   },
   "outputs": [],
   "source": [
    "from pyspark.sql.functions import regexp_replace\n",
    "\n",
    "df = df.withColumn(\"cust_name\", regexp_replace(\"cust_name\", r'^\"*', ''))"
   ]
  },
  {
   "cell_type": "code",
   "execution_count": 0,
   "metadata": {
    "application/vnd.databricks.v1+cell": {
     "cellMetadata": {
      "byteLimit": 2048000,
      "rowLimit": 10000
     },
     "inputWidgets": {},
     "nuid": "5765257f-9b42-4e23-962a-d5f617922689",
     "showTitle": true,
     "tableResultSettingsMap": {},
     "title": "remove trailing double quotes followed by spaces and a double quote"
    }
   },
   "outputs": [],
   "source": [
    "from pyspark.sql.functions import regexp_replace\n",
    "\n",
    "df = df.withColumn(\"cust_name\", regexp_replace(\"cust_name\", r'\"* *\"*$', ''))"
   ]
  },
  {
   "cell_type": "code",
   "execution_count": 0,
   "metadata": {
    "application/vnd.databricks.v1+cell": {
     "cellMetadata": {
      "byteLimit": 2048000,
      "rowLimit": 10000
     },
     "inputWidgets": {},
     "nuid": "bed13b64-5e3e-424f-8e98-4e75a0ccb9e6",
     "showTitle": true,
     "tableResultSettingsMap": {},
     "title": "Trim trailing spaces"
    }
   },
   "outputs": [],
   "source": [
    "from pyspark.sql.functions import rtrim\n",
    "\n",
    "df = df.withColumn(\"cust_name\", rtrim(\"cust_name\"))"
   ]
  },
  {
   "cell_type": "code",
   "execution_count": 0,
   "metadata": {
    "application/vnd.databricks.v1+cell": {
     "cellMetadata": {
      "byteLimit": 2048000,
      "rowLimit": 10000
     },
     "inputWidgets": {},
     "nuid": "830bd8ea-6aa7-4d0e-b419-5deb5f4a0d0a",
     "showTitle": true,
     "tableResultSettingsMap": {
      "0": {
       "dataGridStateBlob": "{\"version\":1,\"tableState\":{\"columnPinning\":{\"left\":[\"#row_number#\"],\"right\":[]},\"columnSizing\":{},\"columnVisibility\":{}},\"settings\":{\"columns\":{}},\"syncTimestamp\":1756494627633}",
       "filterBlob": "{\"version\":1,\"filterGroups\":[],\"syncTimestamp\":1756426231954}",
       "queryPlanFiltersBlob": "[]",
       "tableResultIndex": 0
      }
     },
     "title": "Sort and display data"
    }
   },
   "outputs": [],
   "source": [
    "df = df.sort(df.cust_name)\n",
    "display(df)"
   ]
  },
  {
   "cell_type": "code",
   "execution_count": 0,
   "metadata": {
    "application/vnd.databricks.v1+cell": {
     "cellMetadata": {
      "byteLimit": 2048000,
      "rowLimit": 10000
     },
     "inputWidgets": {},
     "nuid": "2e8d1c82-d14c-4371-87cb-ca3868bfd067",
     "showTitle": false,
     "tableResultSettingsMap": {},
     "title": ""
    }
   },
   "outputs": [],
   "source": [
    "df.write.mode(\"overwrite\").option(\"mergeSchema\", \"true\").saveAsTable(\"amitabh_arora_catalog.playground.customer_names\")"
   ]
  }
 ],
 "metadata": {
  "application/vnd.databricks.v1+notebook": {
   "computePreferences": null,
   "dashboards": [],
   "environmentMetadata": {
    "base_environment": "dbe_c75093c8-0895-475e-8c1b-6acacfe3368b",
    "environment_version": "2"
   },
   "inputWidgetPreferences": null,
   "language": "python",
   "notebookMetadata": {
    "pythonIndentUnit": 2
   },
   "notebookName": "00-clean-cust-names",
   "widgets": {}
  },
  "language_info": {
   "name": "python"
  }
 },
 "nbformat": 4,
 "nbformat_minor": 0
}
