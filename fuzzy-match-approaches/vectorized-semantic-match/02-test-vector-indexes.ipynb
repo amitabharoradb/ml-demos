{
 "cells": [
  {
   "cell_type": "code",
   "execution_count": 0,
   "metadata": {
    "application/vnd.databricks.v1+cell": {
     "cellMetadata": {
      "byteLimit": 2048000,
      "rowLimit": 10000
     },
     "inputWidgets": {},
     "nuid": "c55621f2-fe2a-407e-8ef6-4ceb0b6bee42",
     "showTitle": false,
     "tableResultSettingsMap": {},
     "title": ""
    }
   },
   "outputs": [],
   "source": [
    "def customer_name_search(customer_name):\n",
    "    query = f\"\"\"\n",
    "    SELECT * FROM VECTOR_SEARCH(\n",
    "        index => \"amitabh_arora_catalog.playground.customer_names_index\",\n",
    "        query_type => \"hybrid\",\n",
    "        query_text => \"{customer_name}\", \n",
    "        num_results => 2\n",
    "    )\n",
    "    -- where search_score > 0.85\n",
    "    \"\"\"\n",
    "    result = spark.sql(query)\n",
    "    return result\n",
    "\n",
    "# Example usage:\n",
    "# result_df = vector_search(\"Amazon\")\n",
    "# display(result_df)"
   ]
  },
  {
   "cell_type": "code",
   "execution_count": 0,
   "metadata": {
    "application/vnd.databricks.v1+cell": {
     "cellMetadata": {
      "byteLimit": 2048000,
      "rowLimit": 10000
     },
     "inputWidgets": {},
     "nuid": "89f639ba-dec7-42ff-bb42-86fc3b47ae38",
     "showTitle": false,
     "tableResultSettingsMap": {},
     "title": ""
    }
   },
   "outputs": [],
   "source": [
    "display(customer_name_search(\"Amazne\"))"
   ]
  },
  {
   "cell_type": "code",
   "execution_count": 0,
   "metadata": {
    "application/vnd.databricks.v1+cell": {
     "cellMetadata": {
      "byteLimit": 2048000,
      "rowLimit": 10000
     },
     "inputWidgets": {},
     "nuid": "47c770c9-5519-46d7-a47c-23e79aac5af2",
     "showTitle": false,
     "tableResultSettingsMap": {},
     "title": ""
    }
   },
   "outputs": [],
   "source": []
  }
 ],
 "metadata": {
  "application/vnd.databricks.v1+notebook": {
   "computePreferences": null,
   "dashboards": [],
   "environmentMetadata": {
    "base_environment": "",
    "environment_version": "3"
   },
   "inputWidgetPreferences": null,
   "language": "python",
   "notebookMetadata": {
    "mostRecentlyExecutedCommandWithImplicitDF": {
     "commandId": 6758469288549110,
     "dataframes": [
      "_sqldf"
     ]
    },
    "pythonIndentUnit": 2
   },
   "notebookName": "02-test-vector-indexes",
   "widgets": {}
  },
  "language_info": {
   "name": "python"
  }
 },
 "nbformat": 4,
 "nbformat_minor": 0
}
