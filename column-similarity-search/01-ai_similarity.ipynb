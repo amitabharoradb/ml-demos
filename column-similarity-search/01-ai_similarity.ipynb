{
 "cells": [
  {
   "cell_type": "code",
   "execution_count": 0,
   "metadata": {
    "application/vnd.databricks.v1+cell": {
     "cellMetadata": {
      "byteLimit": 2048000,
      "implicitDf": true,
      "rowLimit": 10000
     },
     "inputWidgets": {},
     "nuid": "e385de8e-dda9-4405-be71-2e4c2901a8c3",
     "showTitle": false,
     "tableResultSettingsMap": {},
     "title": ""
    }
   },
   "outputs": [],
   "source": [
    "%sql\n",
    "with retailer_name_sim AS (\n",
    "  select\n",
    "    cust_name,\n",
    "    ai_similarity('amazon', cust_name) as sim\n",
    "  from\n",
    "    amitabh_arora_catalog.`demo_vectorization`.retailer_names\n",
    ")\n",
    "select\n",
    "  *\n",
    "from\n",
    "  retailer_name_sim\n",
    "where\n",
    "  sim > 0.9\n",
    "order by\n",
    "  sim desc"
   ]
  }
 ],
 "metadata": {
  "application/vnd.databricks.v1+notebook": {
   "computePreferences": null,
   "dashboards": [],
   "environmentMetadata": {
    "base_environment": "dbe_f14fbde8-5353-4144-89be-f0a3e93fffc9",
    "environment_version": "3"
   },
   "inputWidgetPreferences": null,
   "language": "python",
   "notebookMetadata": {
    "mostRecentlyExecutedCommandWithImplicitDF": {
     "commandId": 8376011036712835,
     "dataframes": [
      "_sqldf"
     ]
    },
    "pythonIndentUnit": 2
   },
   "notebookName": "01-ai_similarity",
   "widgets": {}
  },
  "language_info": {
   "name": "python"
  }
 },
 "nbformat": 4,
 "nbformat_minor": 0
}
